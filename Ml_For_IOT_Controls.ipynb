{
  "cells": [
    {
      "cell_type": "code",
      "execution_count": 9,
      "metadata": {
        "id": "I7YMkb5nA2Xh"
      },
      "outputs": [],
      "source": [
        "import gspread\n",
        "import pandas as pd\n",
        "import numpy as np\n",
        "from sklearn.model_selection import train_test_split\n",
        "from sklearn.ensemble import RandomForestClassifier\n",
        "from google.colab import auth\n",
        "from google.auth import default"
      ]
    },
    {
      "cell_type": "code",
      "execution_count": 10,
      "metadata": {
        "id": "XRE4FlsRhZjY"
      },
      "outputs": [],
      "source": [
        "# auth/load google credentials\n",
        "auth.authenticate_user()\n",
        "creds, _= default()\n",
        "gc = gspread.authorize(creds)\n",
        "\n",
        "#open the Google sheet by its URL (ensure it's publicly accessible)\n",
        "sheet_url = 'https://docs.google.com/spreadsheets/d/1SLwix8SFx3VUShDSNgh8-uu1h2f-UulPTu2t5CXWRnM/edit'\n",
        "\n",
        "#Authenticate and open spreadsheet\n",
        "spreadsheet = gc.open_by_url(sheet_url)\n",
        "\n",
        "#select a specific worksheet\n",
        "worksheet = spreadsheet.worksheet(\"sample-data-fan-control\")\n",
        "\n",
        "#Get all values from the worksheet\n",
        "values = worksheet.get_all_values()\n",
        "\n",
        "# Convert to a pandas DataFrame\n",
        "df = pd.DataFrame(values[1:], columns=values[0])"
      ]
    },
    {
      "cell_type": "code",
      "execution_count": 12,
      "metadata": {
        "colab": {
          "base_uri": "https://localhost:8080/"
        },
        "id": "bMTzCyD6g0DE",
        "outputId": "4ffc6fdd-ebad-4c65-b208-a746b1cc6480"
      },
      "outputs": [
        {
          "name": "stdout",
          "output_type": "stream",
          "text": [
            "<class 'pandas.core.frame.DataFrame'>\n",
            "RangeIndex: 902 entries, 0 to 901\n",
            "Data columns (total 9 columns):\n",
            " #   Column         Non-Null Count  Dtype \n",
            "---  ------         --------------  ----- \n",
            " 0   time           902 non-null    object\n",
            " 1   period         902 non-null    object\n",
            " 2   day            902 non-null    object\n",
            " 3   studio_motion  902 non-null    object\n",
            " 4   dog_motion     902 non-null    object\n",
            " 5   studio_temp    902 non-null    object\n",
            " 6   dog_temp       902 non-null    object\n",
            " 7   studio_fan     902 non-null    object\n",
            " 8   dog_fan        902 non-null    object\n",
            "dtypes: object(9)\n",
            "memory usage: 63.5+ KB\n"
          ]
        }
      ],
      "source": [
        "df.info()"
      ]
    },
    {
      "cell_type": "code",
      "execution_count": 18,
      "metadata": {
        "colab": {
          "base_uri": "https://localhost:8080/"
        },
        "id": "qlj5X1deKH7U",
        "outputId": "fb7f5fae-1167-4177-b87a-12f712460b1a"
      },
      "outputs": [
        {
          "name": "stdout",
          "output_type": "stream",
          "text": [
            "rm: cannot remove '/root/.config/gspread': No such file or directory\n"
          ]
        }
      ],
      "source": [
        "!rm -r ~/.config/gspread\n"
      ]
    },
    {
      "cell_type": "code",
      "execution_count": 20,
      "metadata": {
        "id": "vBHmUYWYXkLo"
      },
      "outputs": [],
      "source": []
    },
    {
      "cell_type": "code",
      "execution_count": 47,
      "metadata": {
        "id": "3ABMJYI1nPP3"
      },
      "outputs": [],
      "source": [
        "# clean up data\n",
        "weekday_map = {'sunday': 0, 'monday': 1, 'tuesday': 2, 'wednesday': 3, 'thursday': 4, 'friday': 5, 'saturday': 6}\n",
        "df['day'] = df['day'].map(weekday_map)\n",
        "\n",
        "truth_map = {'FALSE': 0, 'TRUE': 1}\n",
        "df['studio_motion'] = df['studio_motion'].map(truth_map)\n",
        "df['dog_motion'] = df['dog_motion'].map(truth_map)\n",
        "\n",
        "on_off_map = {'off': 0, 'on': 1}\n",
        "df['studio_fan'] = df['studio_fan'].map(on_off_map)\n",
        "df['dog_fan'] = df['dog_fan'].map(on_off_map)\n",
        "\n",
        "# Function to convert time stamp string to seconds\n",
        "def time_to_seconds(time_str):\n",
        "    hours, minutes, seconds = map(int, time_str.split(':'))\n",
        "    return hours * 3600 + minutes * 60 + seconds\n",
        "\n",
        "# Convert the 'Timestamps' column to seconds in day\n",
        "df['time'] = df['time'].apply(time_to_seconds)\n",
        "\n",
        "# -------------------------------------------\n",
        "# seperate studio fan and dog fan  data\n",
        "# select studio fan and dog fan state DataFrame\n",
        "df_st = df[['time','day','studio_motion', 'studio_temp','studio_fan']]\n",
        "df_do = df[['time','day','dog_motion', 'dog_temp','dog_fan']]\n",
        "\n",
        "# -------------------------------------------\n",
        "# seperate features/Inputs (X) and targets (classes: y)\n",
        "\n",
        "# condition analysis (target data, Class)\n",
        "y_st = df_st['studio_fan']\n",
        "y_do = df_do['dog_fan']\n",
        "\n",
        "# independent variables (Features/Input)\n",
        "X_st = df_st.drop(['studio_fan'], axis = 1)\n",
        "X_do = df_do.drop(['dog_fan'], axis = 1)\n",
        "\n",
        "# -------------------------------------------\n",
        "# split training and test data\n",
        "\n",
        "X_train_st, X_test_st, y_train_st, y_test_st = train_test_split(X_st, y_st, test_size=0.20, random_state=91)\n",
        "X_train_do, X_test_do, y_train_do, y_test_do = train_test_split(X_do, y_do, test_size=0.20, random_state=91)\n"
      ]
    },
    {
      "cell_type": "code",
      "execution_count": 48,
      "metadata": {
        "colab": {
          "base_uri": "https://localhost:8080/"
        },
        "id": "YVGOhE2yiAvG",
        "outputId": "fb473e39-f453-4c36-f71b-4bd6f14c6558"
      },
      "outputs": [
        {
          "name": "stdout",
          "output_type": "stream",
          "text": [
            "Studio Fan OOB SCORE: 0.970873786407767\n"
          ]
        }
      ],
      "source": [
        "# init and train RandomForestClassifier for Studio Fan Model\n",
        "\n",
        "# time, day,\tstudio_motion,\tstudio_temp\n",
        "class_weights = {0: 10, 1: 27, 2: 4, 3: 40}  # Data Tuning: Assign a higher weight to classes with higher importance\n",
        "\n",
        "model_st = RandomForestClassifier(oob_score=True, max_depth=8, random_state=90, class_weight=class_weights)\n",
        "model_st.fit(X_train_st,y_train_st)\n",
        "\n",
        "# Calculate estimated OOB (Out Of Bag) score\n",
        "\"\"\" The OOB score can serve as a useful estimate of how well your random forest model is likely\n",
        "to perform on unseen data without the need for a separate validation set.\n",
        "However, it's still a good practice to use additional evaluation techniques\n",
        "like cross-validation to assess the model's performance thoroughly. \"\"\"\n",
        "\n",
        "print(f'Studio Fan OOB SCORE: {model_st.oob_score_}')"
      ]
    },
    {
      "cell_type": "markdown",
      "metadata": {
        "id": "XSWGUdP6NDYb"
      },
      "source": [
        "Model Selection, Evaluation and Training"
      ]
    },
    {
      "cell_type": "code",
      "execution_count": 34,
      "metadata": {
        "colab": {
          "base_uri": "https://localhost:8080/"
        },
        "id": "PbJWFkItM_l7",
        "outputId": "822bf3d5-2c97-4dfc-857f-5feb2d42d3ba"
      },
      "outputs": [
        {
          "name": "stdout",
          "output_type": "stream",
          "text": [
            "Missing values in X_train_st: 0\n",
            "Missing values in y_train_st: 0\n",
            "Unique classes in y_train_st: []\n"
          ]
        }
      ],
      "source": [
        "# Check for NaN values in feature and target data\n",
        "print(\"Missing values in X_train_st:\", X_train_st.isnull().sum().sum())\n",
        "print(\"Missing values in y_train_st:\", y_train_st.isnull().sum())\n",
        "\n",
        "# Optional: Print unique classes in y_train_st\n",
        "print(\"Unique classes in y_train_st:\", y_train_st.unique())\n"
      ]
    },
    {
      "cell_type": "code",
      "execution_count": 35,
      "metadata": {
        "id": "mlq6eDKGe0jR"
      },
      "outputs": [],
      "source": [
        "# Impute missing values for features (e.g., fill with mean or median)\n",
        "X_train_st.fillna(X_train_st.mean(), inplace=True)\n"
      ]
    },
    {
      "cell_type": "code",
      "execution_count": 36,
      "metadata": {
        "colab": {
          "base_uri": "https://localhost:8080/"
        },
        "id": "1yBZxrDaZMdj",
        "outputId": "591d9ddd-b985-484e-c0fc-578c0d7102da"
      },
      "outputs": [
        {
          "name": "stdout",
          "output_type": "stream",
          "text": [
            "0\n"
          ]
        }
      ],
      "source": [
        "print(y_train_st.isnull().sum())  # Shows the number of NaN values in y_train_st\n"
      ]
    },
    {
      "cell_type": "code",
      "execution_count": 37,
      "metadata": {
        "id": "F12jxSZaZa0e"
      },
      "outputs": [],
      "source": [
        "# Remove rows with NaN in the target variable\n",
        "X_train_st = X_train_st[y_train_st.notnull()]\n",
        "y_train_st = y_train_st[y_train_st.notnull()]\n"
      ]
    },
    {
      "cell_type": "code",
      "execution_count": 30,
      "metadata": {
        "id": "f_sPjvVuZflG"
      },
      "outputs": [],
      "source": [
        "# Impute missing values in the target variable\n"
      ]
    },
    {
      "cell_type": "code",
      "execution_count": 29,
      "metadata": {
        "id": "8cCEzi2ZZkxj"
      },
      "outputs": [],
      "source": [
        "X_train_st, y_train_st = X_train_st.align(y_train_st, join='inner', axis=0)\n"
      ]
    },
    {
      "cell_type": "code",
      "execution_count": 48,
      "metadata": {
        "id": "0s51BK3lgaPm"
      },
      "outputs": [],
      "source": [
        "\n"
      ]
    },
    {
      "cell_type": "code",
      "execution_count": 43,
      "metadata": {
        "id": "x2fxyN4ZghKS"
      },
      "outputs": [],
      "source": []
    },
    {
      "cell_type": "code",
      "execution_count": 49,
      "metadata": {
        "colab": {
          "base_uri": "https://localhost:8080/"
        },
        "id": "OCYhrOf_ZpbO",
        "outputId": "94f0683c-d431-4559-bef0-28c36249aaa9"
      },
      "outputs": [
        {
          "name": "stdout",
          "output_type": "stream",
          "text": [
            "Studio Fan OOB SCORE: 0.970873786407767\n"
          ]
        }
      ],
      "source": [
        "# init and train RandomForestClassifier for Studio Fan Model\n",
        "\n",
        "# time, day,\tstudio_motion,\tstudio_temp\n",
        "class_weights = {0: 10, 1: 27, 2: 4, 3: 40}  # Data Tuning: Assign a higher weight to classes with higher importance\n",
        "\n",
        "model_st = RandomForestClassifier(oob_score=True, max_depth=8, random_state=90, class_weight=class_weights)\n",
        "model_st.fit(X_train_st,y_train_st)\n",
        "\n",
        "# Calculate estimated OOB (Out Of Bag) score\n",
        "\"\"\" The OOB score can serve as a useful estimate of how well your random forest model is likely\n",
        "to perform on unseen data without the need for a separate validation set.\n",
        "However, it's still a good practice to use additional evaluation techniques\n",
        "like cross-validation to assess the model's performance thoroughly. \"\"\"\n",
        "\n",
        "print(f'Studio Fan OOB SCORE: {model_st.oob_score_}')"
      ]
    },
    {
      "cell_type": "markdown",
      "metadata": {
        "id": "FghNm8VUNJCM"
      },
      "source": [
        "Tuning and Evaluation"
      ]
    },
    {
      "cell_type": "code",
      "execution_count": 50,
      "metadata": {
        "colab": {
          "base_uri": "https://localhost:8080/"
        },
        "id": "do2eQB5bNKHJ",
        "outputId": "2345c12a-c73f-4965-d396-99b0cde79cc8"
      },
      "outputs": [
        {
          "name": "stdout",
          "output_type": "stream",
          "text": [
            "Studio Fan OOB SCORE: 0.970873786407767\n",
            "Dog Fan OOB SCORE: 0.9597780859916782\n"
          ]
        }
      ],
      "source": [
        "# init and train RandomForestClassifier for Studio Fan Model\n",
        "\n",
        "# time, day,\tstudio_motion,\tstudio_temp\n",
        "class_weights = {0: 10, 1: 27, 2: 4, 3: 40}  # Data Tuning: Assign a higher weight to classes with higher importance\n",
        "\n",
        "model_st = RandomForestClassifier(oob_score=True, max_depth=8, random_state=90, class_weight=class_weights)\n",
        "model_st.fit(X_train_st,y_train_st)\n",
        "\n",
        "# Calculate estimated OOB (Out Of Bag) score\n",
        "\"\"\" The OOB score can serve as a useful estimate of how well your random forest model is likely\n",
        "to perform on unseen data without the need for a separate validation set.\n",
        "However, it's still a good practice to use additional evaluation techniques\n",
        "like cross-validation to assess the model's performance thoroughly. \"\"\"\n",
        "\n",
        "print(f'Studio Fan OOB SCORE: {model_st.oob_score_}')\n",
        "\n",
        "\n",
        "# init and train RandomForestClassifier for Dog Fan Model\n",
        "\n",
        "# time, day,\tstudio_motion,\tstudio_temp\n",
        "class_weights = {0: 30, 1: 20, 2: 4, 3: 40}  # Data Tuning: Example: Assign a higher weight (5) to class 1\n",
        "\n",
        "model_do = RandomForestClassifier(oob_score=True, max_depth=8, random_state=91, class_weight=class_weights)\n",
        "model_do.fit(X_train_do,y_train_do)\n",
        "\n",
        "# Calculate estimated OOB (Out Of Bag) score\n",
        "\"\"\" The OOB score can serve as a useful estimate of how well your random forest model is likely\n",
        "to perform on unseen data without the need for a separate validation set.\n",
        "However, it's still a good practice to use additional evaluation techniques\n",
        "like cross-validation to assess the model's performance thoroughly. \"\"\"\n",
        "\n",
        "print(f'Dog Fan OOB SCORE: {model_do.oob_score_}')\n"
      ]
    },
    {
      "cell_type": "code",
      "execution_count": 52,
      "metadata": {
        "colab": {
          "base_uri": "https://localhost:8080/"
        },
        "id": "a4lJCUPfNVCL",
        "outputId": "c57404ad-3d8d-45d9-f772-a831288a235d"
      },
      "outputs": [
        {
          "name": "stdout",
          "output_type": "stream",
          "text": [
            "Studio Fan Accuracy: 0.9668508287292817\n",
            "Dog Fan Accuracy: 0.9502762430939227\n"
          ]
        }
      ],
      "source": [
        "# Calculate Accuracy\n",
        "from sklearn.metrics import accuracy_score, classification_report\n",
        "\n",
        "# calculate studio fan state accuracy\n",
        "y_pred_st = model_st.predict(X_test_st)\n",
        "accuracy_st = accuracy_score(y_test_st, y_pred_st)\n",
        "print(f'Studio Fan Accuracy: {accuracy_st}')\n",
        "\n",
        "# calculate dog fan state accuracy\n",
        "y_pred_do = model_do.predict(X_test_do)\n",
        "accuracy_do = accuracy_score(y_test_do, y_pred_do)\n",
        "print(f'Dog Fan Accuracy: {accuracy_do}')\n",
        "\n",
        "# calculate and visualize the confusion matrix\n",
        "\"\"\" A confusion matrix is a table used in machine learning to evaluate the performance of a classification model, showing true positives, true negatives, false positives, and false negatives.\"\"\"\n",
        "\n",
        "import matplotlib.pyplot as plt\n",
        "import seaborn as sns\n",
        "from sklearn.metrics import confusion_matrix\n",
        "\n",
        "def plot_confusion_matrix(y_test, y_pred, label_name):\n",
        "  # Generate a confusion matrix\n",
        "  confusion = confusion_matrix(y_test, y_pred)\n",
        "\n",
        "  # Calculate percentages for each cell in the confusion matrix\n",
        "  total_samples = np.sum(confusion)\n",
        "  confusion_percent = (confusion / total_samples) * 100\n",
        "\n",
        "  # Plot the confusion matrix with percentages\n",
        "  plt.figure(figsize=(4, 3))\n",
        "  sns.heatmap(confusion_percent, annot=True, fmt='.2f', cmap='Blues', cbar=False, square=True)\n",
        "  plt.xlabel('Predicted Labels : ' + label_name)\n",
        "  plt.ylabel('Actual Labels')\n",
        "  plt.title('Confusion Matrix (Percentages)')\n",
        "  plt.show()\n",
        "\n",
        "\n"
      ]
    },
    {
      "cell_type": "markdown",
      "metadata": {
        "id": "HfLVUdg9NjUm"
      },
      "source": [
        "Model Download and Deployment"
      ]
    },
    {
      "cell_type": "code",
      "execution_count": 55,
      "metadata": {
        "colab": {
          "base_uri": "https://localhost:8080/",
          "height": 17
        },
        "id": "_qTOkvKXNkR9",
        "outputId": "c050aaf8-a0a0-446f-c32d-75ce42965318"
      },
      "outputs": [
        {
          "data": {
            "application/javascript": "\n    async function download(id, filename, size) {\n      if (!google.colab.kernel.accessAllowed) {\n        return;\n      }\n      const div = document.createElement('div');\n      const label = document.createElement('label');\n      label.textContent = `Downloading \"${filename}\": `;\n      div.appendChild(label);\n      const progress = document.createElement('progress');\n      progress.max = size;\n      div.appendChild(progress);\n      document.body.appendChild(div);\n\n      const buffers = [];\n      let downloaded = 0;\n\n      const channel = await google.colab.kernel.comms.open(id);\n      // Send a message to notify the kernel that we're ready.\n      channel.send({})\n\n      for await (const message of channel.messages) {\n        // Send a message to notify the kernel that we're ready.\n        channel.send({})\n        if (message.buffers) {\n          for (const buffer of message.buffers) {\n            buffers.push(buffer);\n            downloaded += buffer.byteLength;\n            progress.value = downloaded;\n          }\n        }\n      }\n      const blob = new Blob(buffers, {type: 'application/binary'});\n      const a = document.createElement('a');\n      a.href = window.URL.createObjectURL(blob);\n      a.download = filename;\n      div.appendChild(a);\n      a.click();\n      div.remove();\n    }\n  ",
            "text/plain": [
              "<IPython.core.display.Javascript object>"
            ]
          },
          "metadata": {},
          "output_type": "display_data"
        },
        {
          "data": {
            "application/javascript": "download(\"download_2b7f21e1-886e-4668-83df-6825ba4c2cd0\", \"studio_fan_model.joblib\", 616502)",
            "text/plain": [
              "<IPython.core.display.Javascript object>"
            ]
          },
          "metadata": {},
          "output_type": "display_data"
        },
        {
          "data": {
            "application/javascript": "\n    async function download(id, filename, size) {\n      if (!google.colab.kernel.accessAllowed) {\n        return;\n      }\n      const div = document.createElement('div');\n      const label = document.createElement('label');\n      label.textContent = `Downloading \"${filename}\": `;\n      div.appendChild(label);\n      const progress = document.createElement('progress');\n      progress.max = size;\n      div.appendChild(progress);\n      document.body.appendChild(div);\n\n      const buffers = [];\n      let downloaded = 0;\n\n      const channel = await google.colab.kernel.comms.open(id);\n      // Send a message to notify the kernel that we're ready.\n      channel.send({})\n\n      for await (const message of channel.messages) {\n        // Send a message to notify the kernel that we're ready.\n        channel.send({})\n        if (message.buffers) {\n          for (const buffer of message.buffers) {\n            buffers.push(buffer);\n            downloaded += buffer.byteLength;\n            progress.value = downloaded;\n          }\n        }\n      }\n      const blob = new Blob(buffers, {type: 'application/binary'});\n      const a = document.createElement('a');\n      a.href = window.URL.createObjectURL(blob);\n      a.download = filename;\n      div.appendChild(a);\n      a.click();\n      div.remove();\n    }\n  ",
            "text/plain": [
              "<IPython.core.display.Javascript object>"
            ]
          },
          "metadata": {},
          "output_type": "display_data"
        },
        {
          "data": {
            "application/javascript": "download(\"download_d8c8b22e-eaef-4a79-9264-e4bab1f435ac\", \"dog_fan_model.joblib\", 616502)",
            "text/plain": [
              "<IPython.core.display.Javascript object>"
            ]
          },
          "metadata": {},
          "output_type": "display_data"
        },
        {
          "data": {
            "application/javascript": "\n    async function download(id, filename, size) {\n      if (!google.colab.kernel.accessAllowed) {\n        return;\n      }\n      const div = document.createElement('div');\n      const label = document.createElement('label');\n      label.textContent = `Downloading \"${filename}\": `;\n      div.appendChild(label);\n      const progress = document.createElement('progress');\n      progress.max = size;\n      div.appendChild(progress);\n      document.body.appendChild(div);\n\n      const buffers = [];\n      let downloaded = 0;\n\n      const channel = await google.colab.kernel.comms.open(id);\n      // Send a message to notify the kernel that we're ready.\n      channel.send({})\n\n      for await (const message of channel.messages) {\n        // Send a message to notify the kernel that we're ready.\n        channel.send({})\n        if (message.buffers) {\n          for (const buffer of message.buffers) {\n            buffers.push(buffer);\n            downloaded += buffer.byteLength;\n            progress.value = downloaded;\n          }\n        }\n      }\n      const blob = new Blob(buffers, {type: 'application/binary'});\n      const a = document.createElement('a');\n      a.href = window.URL.createObjectURL(blob);\n      a.download = filename;\n      div.appendChild(a);\n      a.click();\n      div.remove();\n    }\n  ",
            "text/plain": [
              "<IPython.core.display.Javascript object>"
            ]
          },
          "metadata": {},
          "output_type": "display_data"
        },
        {
          "data": {
            "application/javascript": "download(\"download_f659eeb6-ac75-4b83-be80-48249479cbbe\", \"studio_fan_model.joblib\", 616502)",
            "text/plain": [
              "<IPython.core.display.Javascript object>"
            ]
          },
          "metadata": {},
          "output_type": "display_data"
        },
        {
          "data": {
            "application/javascript": "\n    async function download(id, filename, size) {\n      if (!google.colab.kernel.accessAllowed) {\n        return;\n      }\n      const div = document.createElement('div');\n      const label = document.createElement('label');\n      label.textContent = `Downloading \"${filename}\": `;\n      div.appendChild(label);\n      const progress = document.createElement('progress');\n      progress.max = size;\n      div.appendChild(progress);\n      document.body.appendChild(div);\n\n      const buffers = [];\n      let downloaded = 0;\n\n      const channel = await google.colab.kernel.comms.open(id);\n      // Send a message to notify the kernel that we're ready.\n      channel.send({})\n\n      for await (const message of channel.messages) {\n        // Send a message to notify the kernel that we're ready.\n        channel.send({})\n        if (message.buffers) {\n          for (const buffer of message.buffers) {\n            buffers.push(buffer);\n            downloaded += buffer.byteLength;\n            progress.value = downloaded;\n          }\n        }\n      }\n      const blob = new Blob(buffers, {type: 'application/binary'});\n      const a = document.createElement('a');\n      a.href = window.URL.createObjectURL(blob);\n      a.download = filename;\n      div.appendChild(a);\n      a.click();\n      div.remove();\n    }\n  ",
            "text/plain": [
              "<IPython.core.display.Javascript object>"
            ]
          },
          "metadata": {},
          "output_type": "display_data"
        },
        {
          "data": {
            "application/javascript": "download(\"download_da447512-2887-40f8-924c-277409205a51\", \"dog_fan_model.joblib\", 616502)",
            "text/plain": [
              "<IPython.core.display.Javascript object>"
            ]
          },
          "metadata": {},
          "output_type": "display_data"
        }
      ],
      "source": [
        "import joblib\n",
        "from google.colab import files\n",
        "\n",
        "# Download Studio Fan Model\n",
        "joblib.dump(model_st, \"studio_fan_model.joblib\")\n",
        "files.download(\"studio_fan_model.joblib\")\n",
        "\n",
        "# Download Studio Fan Model\n",
        "joblib.dump(model_st, \"dog_fan_model.joblib\")\n",
        "files.download(\"dog_fan_model.joblib\")\n",
        "\n",
        "\n",
        "# Download Studio Fan Model\n",
        "joblib.dump(model_st, \"studio_fan_model.joblib\")\n",
        "files.download(\"studio_fan_model.joblib\")\n",
        "\n",
        "# Download Studio Fan Model\n",
        "joblib.dump(model_st, \"dog_fan_model.joblib\")\n",
        "files.download(\"dog_fan_model.joblib\")"
      ]
    }
  ],
  "metadata": {
    "colab": {
      "provenance": []
    },
    "kernelspec": {
      "display_name": "Python 3",
      "name": "python3"
    },
    "language_info": {
      "name": "python"
    }
  },
  "nbformat": 4,
  "nbformat_minor": 0
}
